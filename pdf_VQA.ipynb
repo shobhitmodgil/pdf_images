{
 "cells": [
  {
   "cell_type": "code",
   "execution_count": 2,
   "metadata": {},
   "outputs": [
    {
     "name": "stdout",
     "output_type": "stream",
     "text": [
      "Collecting PyMuPDF\n",
      "  Downloading pymupdf-1.26.0-cp39-abi3-win_amd64.whl (18.5 MB)\n",
      "Requirement already satisfied: pillow in c:\\users\\smodgil\\appdata\\local\\programs\\python\\python39\\lib\\site-packages (11.2.1)\n",
      "Installing collected packages: PyMuPDF\n",
      "Successfully installed PyMuPDF-1.26.0\n",
      "Note: you may need to restart the kernel to use updated packages.\n"
     ]
    },
    {
     "name": "stderr",
     "output_type": "stream",
     "text": [
      "WARNING: You are using pip version 20.2.3; however, version 25.1.1 is available.\n",
      "You should consider upgrading via the 'c:\\Users\\smodgil\\AppData\\Local\\Programs\\Python\\Python39\\python.exe -m pip install --upgrade pip' command.\n"
     ]
    }
   ],
   "source": [
    "%pip install PyMuPDF pillow\n"
   ]
  },
  {
   "cell_type": "code",
   "execution_count": 4,
   "metadata": {},
   "outputs": [
    {
     "name": "stdout",
     "output_type": "stream",
     "text": [
      "✅ Saved C:\\Users\\smodgil\\Downloads\\pdf_storage\\page_1.png\n",
      "✅ Saved C:\\Users\\smodgil\\Downloads\\pdf_storage\\page_2.png\n",
      "✅ Saved C:\\Users\\smodgil\\Downloads\\pdf_storage\\page_3.png\n",
      "✅ Saved C:\\Users\\smodgil\\Downloads\\pdf_storage\\page_4.png\n",
      "✅ Saved C:\\Users\\smodgil\\Downloads\\pdf_storage\\page_5.png\n",
      "✅ Saved C:\\Users\\smodgil\\Downloads\\pdf_storage\\page_6.png\n",
      "✅ Saved C:\\Users\\smodgil\\Downloads\\pdf_storage\\page_7.png\n",
      "✅ Saved C:\\Users\\smodgil\\Downloads\\pdf_storage\\page_8.png\n",
      "✅ Saved C:\\Users\\smodgil\\Downloads\\pdf_storage\\page_9.png\n",
      "✅ Saved C:\\Users\\smodgil\\Downloads\\pdf_storage\\page_10.png\n",
      "✅ Saved C:\\Users\\smodgil\\Downloads\\pdf_storage\\page_11.png\n",
      "✅ Saved C:\\Users\\smodgil\\Downloads\\pdf_storage\\page_12.png\n",
      "✅ Saved C:\\Users\\smodgil\\Downloads\\pdf_storage\\page_13.png\n",
      "🎉 All pages converted!\n"
     ]
    }
   ],
   "source": [
    "import fitz  # PyMuPDF\n",
    "import os\n",
    "\n",
    "pdf_path = r'C:\\Users\\smodgil\\Downloads\\1809.02108v2.pdf'\n",
    "output_folder = r'C:\\Users\\smodgil\\Downloads\\pdf_storage'\n",
    "\n",
    "if not os.path.exists(output_folder):\n",
    "    os.makedirs(output_folder)\n",
    "\n",
    "doc = fitz.open(pdf_path)\n",
    "\n",
    "for i in range(len(doc)):\n",
    "    page = doc.load_page(i)\n",
    "    pix = page.get_pixmap(dpi=300)  # high DPI for clarity\n",
    "    image_path = os.path.join(output_folder, f'page_{i+1}.png')\n",
    "    pix.save(image_path)\n",
    "    print(f\"✅ Saved {image_path}\")\n",
    "\n",
    "print(\"🎉 All pages converted!\")\n"
   ]
  },
  {
   "cell_type": "code",
   "execution_count": null,
   "metadata": {},
   "outputs": [
    {
     "name": "stdout",
     "output_type": "stream",
     "text": [
      "In the common encoder flowchart (Figure 2a), the step that follows the 3D/2D ResNet block in the visual encoder is **STFT** (Short-Time Fourier Transform). This is indicated by the arrow leading from the 3D/2D ResNet block to the STFT block in the diagram.\n"
     ]
    }
   ],
   "source": [
    "from openai import OpenAI\n",
    "\n",
    "# --- Your API key ---\n",
    "client = OpenAI(\n",
    "    base_url=\"https://openrouter.ai/api/v1\",\n",
    "    api_key=\"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\",\n",
    ")\n",
    "\n",
    "pdf_image_urls = [\n",
    "    \"https://raw.githubusercontent.com/shobhitmodgil/pdf_images/main/page_3.png\"\n",
    "]\n",
    "\n",
    "# --- Your system prompt ---\n",
    "system_prompt = \"\"\"\n",
    "You are an expert document analyst. Your job is to read the given image of a PDF document.\n",
    "When user asks a question, provide a precise and accurate answer based on the content of the image.\n",
    "When the question involves diagrams, interpret them carefully.\n",
    "If the asked information is not found in the input images, say \"The information is not available in the given images.\"\n",
    "\"\"\"\n",
    "\n",
    "# --- User query ---\n",
    "user_query = \"In the common encoder flowchart, what follows the 3D/2D resnet block in visual encoder?\"\n",
    "\n",
    "# --- Build message list ---\n",
    "messages = [\n",
    "    {\n",
    "        \"role\": \"system\",\n",
    "        \"content\": system_prompt\n",
    "    },\n",
    "    {\n",
    "        \"role\": \"user\",\n",
    "        \"content\": [\n",
    "            {\"type\": \"text\", \"text\": user_query}\n",
    "        ] + [\n",
    "            {\"type\": \"image_url\", \"image_url\": {\"url\": img_url}}\n",
    "            for img_url in pdf_image_urls\n",
    "        ]\n",
    "    }\n",
    "]\n",
    "\n",
    "# --- Call API ---\n",
    "completion = client.chat.completions.create(\n",
    "    extra_headers={\n",
    "       \n",
    "    },\n",
    "    model=\"qwen/qwen2.5-vl-32b-instruct:free\",\n",
    "    messages=messages,\n",
    "    temperature=0\n",
    ")\n",
    "\n",
    "# --- Print output ---\n",
    "print(completion.choices[0].message.content)\n"
   ]
  },
  {
   "cell_type": "code",
   "execution_count": 6,
   "metadata": {},
   "outputs": [
    {
     "name": "stdout",
     "output_type": "stream",
     "text": [
      "Collecting openai\n",
      "  Downloading openai-1.84.0-py3-none-any.whl (725 kB)\n",
      "Collecting anyio<5,>=3.5.0\n",
      "  Downloading anyio-4.9.0-py3-none-any.whl (100 kB)\n",
      "Collecting tqdm>4\n",
      "  Downloading tqdm-4.67.1-py3-none-any.whl (78 kB)\n",
      "Collecting httpx<1,>=0.23.0\n",
      "  Downloading httpx-0.28.1-py3-none-any.whl (73 kB)\n",
      "Collecting jiter<1,>=0.4.0\n",
      "  Downloading jiter-0.10.0-cp39-cp39-win_amd64.whl (208 kB)\n",
      "Requirement already satisfied: typing-extensions<5,>=4.11 in c:\\users\\smodgil\\appdata\\roaming\\python\\python39\\site-packages (from openai) (4.14.0)\n",
      "Collecting distro<2,>=1.7.0\n",
      "  Downloading distro-1.9.0-py3-none-any.whl (20 kB)\n",
      "Collecting pydantic<3,>=1.9.0\n",
      "  Downloading pydantic-2.11.5-py3-none-any.whl (444 kB)\n",
      "Collecting sniffio\n",
      "  Downloading sniffio-1.3.1-py3-none-any.whl (10 kB)\n",
      "Collecting idna>=2.8\n",
      "  Downloading idna-3.10-py3-none-any.whl (70 kB)\n",
      "Requirement already satisfied: exceptiongroup>=1.0.2; python_version < \"3.11\" in c:\\users\\smodgil\\appdata\\roaming\\python\\python39\\site-packages (from anyio<5,>=3.5.0->openai) (1.3.0)\n",
      "Requirement already satisfied: colorama; platform_system == \"Windows\" in c:\\users\\smodgil\\appdata\\roaming\\python\\python39\\site-packages (from tqdm>4->openai) (0.4.6)\n",
      "Collecting httpcore==1.*\n",
      "  Downloading httpcore-1.0.9-py3-none-any.whl (78 kB)\n",
      "Collecting certifi\n",
      "  Downloading certifi-2025.4.26-py3-none-any.whl (159 kB)\n",
      "Collecting pydantic-core==2.33.2\n",
      "  Downloading pydantic_core-2.33.2-cp39-cp39-win_amd64.whl (2.0 MB)\n",
      "Collecting typing-inspection>=0.4.0\n",
      "  Downloading typing_inspection-0.4.1-py3-none-any.whl (14 kB)\n",
      "Collecting annotated-types>=0.6.0\n",
      "  Downloading annotated_types-0.7.0-py3-none-any.whl (13 kB)\n",
      "Collecting h11>=0.16\n",
      "  Downloading h11-0.16.0-py3-none-any.whl (37 kB)\n",
      "Installing collected packages: idna, sniffio, anyio, tqdm, h11, certifi, httpcore, httpx, jiter, distro, pydantic-core, typing-inspection, annotated-types, pydantic, openai\n",
      "Successfully installed annotated-types-0.7.0 anyio-4.9.0 certifi-2025.4.26 distro-1.9.0 h11-0.16.0 httpcore-1.0.9 httpx-0.28.1 idna-3.10 jiter-0.10.0 openai-1.84.0 pydantic-2.11.5 pydantic-core-2.33.2 sniffio-1.3.1 tqdm-4.67.1 typing-inspection-0.4.1\n",
      "Note: you may need to restart the kernel to use updated packages.\n"
     ]
    },
    {
     "name": "stderr",
     "output_type": "stream",
     "text": [
      "WARNING: You are using pip version 20.2.3; however, version 25.1.1 is available.\n",
      "You should consider upgrading via the 'c:\\Users\\smodgil\\AppData\\Local\\Programs\\Python\\Python39\\python.exe -m pip install --upgrade pip' command.\n"
     ]
    }
   ],
   "source": [
    "%pip install openai"
   ]
  },
  {
   "cell_type": "code",
   "execution_count": 7,
   "metadata": {},
   "outputs": [
    {
     "name": "stdout",
     "output_type": "stream",
     "text": [
      "Requirement already up-to-date: openai in c:\\users\\smodgil\\appdata\\local\\programs\\python\\python39\\lib\\site-packages (1.84.0)\n",
      "Requirement already satisfied, skipping upgrade: anyio<5,>=3.5.0 in c:\\users\\smodgil\\appdata\\local\\programs\\python\\python39\\lib\\site-packages (from openai) (4.9.0)\n",
      "Requirement already satisfied, skipping upgrade: jiter<1,>=0.4.0 in c:\\users\\smodgil\\appdata\\local\\programs\\python\\python39\\lib\\site-packages (from openai) (0.10.0)\n",
      "Requirement already satisfied, skipping upgrade: distro<2,>=1.7.0 in c:\\users\\smodgil\\appdata\\local\\programs\\python\\python39\\lib\\site-packages (from openai) (1.9.0)\n",
      "Requirement already satisfied, skipping upgrade: tqdm>4 in c:\\users\\smodgil\\appdata\\local\\programs\\python\\python39\\lib\\site-packages (from openai) (4.67.1)\n",
      "Requirement already satisfied, skipping upgrade: sniffio in c:\\users\\smodgil\\appdata\\local\\programs\\python\\python39\\lib\\site-packages (from openai) (1.3.1)\n",
      "Requirement already satisfied, skipping upgrade: typing-extensions<5,>=4.11 in c:\\users\\smodgil\\appdata\\roaming\\python\\python39\\site-packages (from openai) (4.14.0)\n",
      "Requirement already satisfied, skipping upgrade: pydantic<3,>=1.9.0 in c:\\users\\smodgil\\appdata\\local\\programs\\python\\python39\\lib\\site-packages (from openai) (2.11.5)\n",
      "Requirement already satisfied, skipping upgrade: httpx<1,>=0.23.0 in c:\\users\\smodgil\\appdata\\local\\programs\\python\\python39\\lib\\site-packages (from openai) (0.28.1)\n",
      "Requirement already satisfied, skipping upgrade: exceptiongroup>=1.0.2; python_version < \"3.11\" in c:\\users\\smodgil\\appdata\\roaming\\python\\python39\\site-packages (from anyio<5,>=3.5.0->openai) (1.3.0)\n",
      "Requirement already satisfied, skipping upgrade: idna>=2.8 in c:\\users\\smodgil\\appdata\\local\\programs\\python\\python39\\lib\\site-packages (from anyio<5,>=3.5.0->openai) (3.10)\n",
      "Requirement already satisfied, skipping upgrade: colorama; platform_system == \"Windows\" in c:\\users\\smodgil\\appdata\\roaming\\python\\python39\\site-packages (from tqdm>4->openai) (0.4.6)\n",
      "Requirement already satisfied, skipping upgrade: pydantic-core==2.33.2 in c:\\users\\smodgil\\appdata\\local\\programs\\python\\python39\\lib\\site-packages (from pydantic<3,>=1.9.0->openai) (2.33.2)\n",
      "Requirement already satisfied, skipping upgrade: annotated-types>=0.6.0 in c:\\users\\smodgil\\appdata\\local\\programs\\python\\python39\\lib\\site-packages (from pydantic<3,>=1.9.0->openai) (0.7.0)\n",
      "Requirement already satisfied, skipping upgrade: typing-inspection>=0.4.0 in c:\\users\\smodgil\\appdata\\local\\programs\\python\\python39\\lib\\site-packages (from pydantic<3,>=1.9.0->openai) (0.4.1)\n",
      "Requirement already satisfied, skipping upgrade: httpcore==1.* in c:\\users\\smodgil\\appdata\\local\\programs\\python\\python39\\lib\\site-packages (from httpx<1,>=0.23.0->openai) (1.0.9)\n",
      "Requirement already satisfied, skipping upgrade: certifi in c:\\users\\smodgil\\appdata\\local\\programs\\python\\python39\\lib\\site-packages (from httpx<1,>=0.23.0->openai) (2025.4.26)\n",
      "Requirement already satisfied, skipping upgrade: h11>=0.16 in c:\\users\\smodgil\\appdata\\local\\programs\\python\\python39\\lib\\site-packages (from httpcore==1.*->httpx<1,>=0.23.0->openai) (0.16.0)\n",
      "Note: you may need to restart the kernel to use updated packages.\n"
     ]
    },
    {
     "name": "stderr",
     "output_type": "stream",
     "text": [
      "WARNING: You are using pip version 20.2.3; however, version 25.1.1 is available.\n",
      "You should consider upgrading via the 'c:\\Users\\smodgil\\AppData\\Local\\Programs\\Python\\Python39\\python.exe -m pip install --upgrade pip' command.\n"
     ]
    }
   ],
   "source": [
    "%pip install openai --upgrade\n"
   ]
  },
  {
   "cell_type": "code",
   "execution_count": null,
   "metadata": {},
   "outputs": [],
   "source": []
  }
 ],
 "metadata": {
  "kernelspec": {
   "display_name": "Python 3",
   "language": "python",
   "name": "python3"
  },
  "language_info": {
   "codemirror_mode": {
    "name": "ipython",
    "version": 3
   },
   "file_extension": ".py",
   "mimetype": "text/x-python",
   "name": "python",
   "nbconvert_exporter": "python",
   "pygments_lexer": "ipython3",
   "version": "3.9.0"
  }
 },
 "nbformat": 4,
 "nbformat_minor": 2
}
